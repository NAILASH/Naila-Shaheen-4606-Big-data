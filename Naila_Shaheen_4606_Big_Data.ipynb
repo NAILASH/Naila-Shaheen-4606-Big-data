{
  "nbformat": 4,
  "nbformat_minor": 0,
  "metadata": {
    "colab": {
      "provenance": []
    },
    "kernelspec": {
      "name": "python3",
      "display_name": "Python 3"
    },
    "language_info": {
      "name": "python"
    }
  },
  "cells": [
    {
      "cell_type": "code",
      "execution_count": 4,
      "metadata": {
        "colab": {
          "base_uri": "https://localhost:8080/"
        },
        "id": "besTXmhaCOEr",
        "outputId": "28a47f0e-2080-45e6-bf89-0145607d294c"
      },
      "outputs": [
        {
          "output_type": "stream",
          "name": "stdout",
          "text": [
            "Requirement already satisfied: pyspark in /usr/local/lib/python3.10/dist-packages (3.5.1)\n",
            "Requirement already satisfied: py4j==0.10.9.7 in /usr/local/lib/python3.10/dist-packages (from pyspark) (0.10.9.7)\n"
          ]
        }
      ],
      "source": [
        "! pip install pyspark"
      ]
    },
    {
      "cell_type": "code",
      "source": [
        "from pyspark.sql import SparkSession"
      ],
      "metadata": {
        "id": "CJ5Ms76yCkkc"
      },
      "execution_count": 5,
      "outputs": []
    },
    {
      "cell_type": "code",
      "source": [
        "# Create a SparkSession\n",
        "spark = SparkSession.builder \\\n",
        "    .appName(\"ZipExample\") \\\n",
        "    .getOrCreate()"
      ],
      "metadata": {
        "id": "V5EywwGKCqzO"
      },
      "execution_count": 6,
      "outputs": []
    },
    {
      "cell_type": "code",
      "source": [
        "# Load the datasets into DataFrames\n",
        "df1 = spark.read.option(\"header\", \"true\").csv(\"/content/Accommodation.csv\")\n",
        "df2 = spark.read.option(\"header\", \"true\").csv(\"/content/Energy_consumption.csv\")"
      ],
      "metadata": {
        "id": "Mbdus2YACwgf"
      },
      "execution_count": 7,
      "outputs": []
    },
    {
      "cell_type": "code",
      "source": [
        "# Add a row index to each DataFrame\n",
        "from pyspark.sql.functions import monotonically_increasing_id\n",
        "df1 = df1.withColumn(\"row_index\", monotonically_increasing_id())\n",
        "df2 = df2.withColumn(\"row_index\", monotonically_increasing_id())"
      ],
      "metadata": {
        "id": "UfhUm11sC2uC"
      },
      "execution_count": 8,
      "outputs": []
    },
    {
      "cell_type": "code",
      "source": [
        "# Zip the two DataFrames together\n",
        "zipped_df = df1.join(df2, \"row_index\").drop(\"row_index\")\n"
      ],
      "metadata": {
        "id": "VoVnNx23C7AE"
      },
      "execution_count": 9,
      "outputs": []
    },
    {
      "cell_type": "code",
      "source": [
        "# Show the zipped DataFrame\n",
        "zipped_df.show()"
      ],
      "metadata": {
        "id": "6lsvgkt6C_yq",
        "outputId": "40a7906f-05d0-4085-b788-0688f4b2c1a6",
        "colab": {
          "base_uri": "https://localhost:8080/"
        }
      },
      "execution_count": 10,
      "outputs": [
        {
          "output_type": "stream",
          "name": "stdout",
          "text": [
            "+--------------------+--------------------+----------------+------------+-----------+-------------+---------------+-------------------+-------+-------------------+------------------+------------------+------------------+---------+---------+-------------+------------------+---------+-------+-----------------+\n",
            "|                Name|                 Url|       Telephone|   Longitude|   Latitude|AddressRegion|AddressLocality|     AddressCountry|   Tags|          Timestamp|       Temperature|          Humidity|     SquareFootage|Occupancy|HVACUsage|LightingUsage|   RenewableEnergy|DayOfWeek|Holiday|EnergyConsumption|\n",
            "+--------------------+--------------------+----------------+------------+-----------+-------------+---------------+-------------------+-------+-------------------+------------------+------------------+------------------+---------+---------+-------------+------------------+---------+-------+-----------------+\n",
            "|Hideaway Camping ...|                NULL|  +353(0)2822254|   -9.260331|  51.541699|         Cork|     Skibbereen|Republic of Ireland|Camping|2022-01-01 00:00:00|  25.1394334377269| 43.43158120480281|1565.6939992511175|        5|       On|          Off| 2.774698791658742|   Monday|     No|75.36437339539214|\n",
            "|           Clonvilla|                NULL|  +353(0)2498288|   -7.924324|   51.91066|         Cork|        Youghal|Republic of Ireland|Camping|2022-01-01 01:00:00|27.731650520792968|54.225918580233085| 1411.064918331917|        1|       On|           On|21.831384152500608| Saturday|     No|83.40185495035139|\n",
            "|Rosses Point Cara...|                NULL|+353(0)719177113|   -8.569483|  54.306976|        Sligo|   Rosses Point|Republic of Ireland|Camping|2022-01-01 02:00:00|28.704276857248125|58.907657743033184|  1755.71500922237|        2|      Off|          Off|  6.76467168191291|   Sunday|     No|78.27088774061066|\n",
            "|Strandhill Carava...|                NULL|+353(0)719168111|   -8.605472|  54.271988|        Sligo|   Airport Road|Republic of Ireland|Camping|2022-01-01 03:00:00|20.080469485298178|  50.3716371457499| 1452.316318334375|        1|      Off|           On| 8.623446893471096|Wednesday|     No|56.51985048548002|\n",
            "|Flemings White Br...|                NULL|+353(0)646631590|-9.475904065|52.05711322|        Kerry|      Killarney|Republic of Ireland|Camping|2022-01-01 04:00:00| 23.09735925505204| 51.40142134361278|1094.1303586981196|        9|       On|          Off|3.0719692157166323|   Friday|     No|70.81173246793318|\n",
            "|Fossa Caravan and...|                NULL|+353(0)646631497|   -9.585609|  52.070824|        Kerry|          Fossa|Republic of Ireland|Camping|2022-01-01 05:00:00|29.576037393658908| 36.82426323380886|1871.7091797360983|        6|      Off|          Off| 17.62668982389795|   Sunday|    Yes|84.32188519433718|\n",
            "|Streamstown Carav...|                NULL|     35350521519|  -7.8393265|  52.957265|    Tipperary|        Roscrea|            Ireland|Camping|2022-01-01 06:00:00| 25.13116712267887| 35.70962155267958|1607.0012284749637|        6|       On|          Off| 24.26470232698351|   Friday|    Yes|76.16579090213895|\n",
            "|Roundwood Caravan...|                NULL|     35312818163|-6.222318767|53.06909915|      Wicklow|      Roundwood|Republic of Ireland|Camping|2022-01-01 07:00:00|23.182844248720986| 31.67991978011051|1633.9553295431137|        8|      Off|          Off|27.517099250037322| Thursday|    Yes| 74.1319061773031|\n",
            "| Eagle Point Camping|                NULL|  +353(0)2750630|   -9.453848|  51.719186|         Cork|    Ballylickey|Republic of Ireland|Camping|2022-01-01 08:00:00|25.391999374256482|46.399364049557406| 1240.309223721734|        6|       On|          Off|2.3075954692088576|   Sunday|     No|78.20623587095885|\n",
            "|Newtown Cove Cara...|                NULL| +353(0)51381979|   -7.172576|  52.147718|    Waterford|        Tramore|Republic of Ireland|Camping|2022-01-01 09:00:00|22.212549424277597| 32.41846388370173|1705.4203356236915|        1|       On|          Off|29.140070981014404|  Tuesday|     No|77.99221370196022|\n",
            "|O'Sheas Caravan a...|                NULL|  +353(0)2763140|   -9.543672|  51.750909|         Cork|    Glengarriff|Republic of Ireland|Camping|2022-01-01 10:00:00|  28.0648135792427| 36.45147178564109|1341.4671285403147|        2|      Off|          Off|0.3522383966403897|   Monday|    Yes|82.27443448386548|\n",
            "| Ballinacourty House|http://www.campin...|  +353(0)6256000|   -8.209861|   52.41631|    Tipperary|Glen Of Aherlow|Republic of Ireland|Camping|2022-01-01 11:00:00|23.422546256146845|30.527342157466457|1604.4183548074382|        6|       On|           On|19.529548154656723| Thursday|    Yes|73.27866950427382|\n",
            "|Creveen Lodge Car...|http://www.crevee...|+353(0)646683131|   -9.760142|  51.755089|        Kerry|        Lauragh|Republic of Ireland|Camping|2022-01-01 12:00:00|25.388888490671448| 47.60101803425757|1244.6189139899486|        1|       On|          Off| 21.79744359722318|  Tuesday|    Yes|84.14477565753458|\n",
            "|Mannix Point Camp...|http://www.campin...|+353(0)669472806|   -10.24526|  51.941941|        Kerry|           NULL|Republic of Ireland|Camping|2022-01-01 13:00:00|20.058737855510582|41.861641594454376| 1806.052631578324|        2|      Off|          Off| 6.384949152471242|   Friday|    Yes| 60.0225185622203|\n",
            "|Fitzmaurice's Car...|http://www.fitzma...| +353(0)51381466|   -7.138872|  52.164454|    Waterford|     Riverstown|Republic of Ireland|Camping|2022-01-01 14:00:00|26.731524781805255| 37.29787044961106|1419.7490137965287|        6|      Off|          Off|12.074223142216763|   Friday|    Yes|81.18318756246354|\n",
            "| Meadow Camping Park|                NULL|  +353(0)2833280|    -9.10905|  51.564219|         Cork|       Glandore|Republic of Ireland|Camping|2022-01-01 15:00:00| 22.10024262178738| 56.09917871988325|1144.8062949047298|        8|      Off|           On|10.900770033732996|   Sunday|     No|  74.081256288494|\n",
            "|       Jasmine Villa|                NULL|+353(0)214883234|    -8.23967|  51.911458|         Cork|  Carrigtwohill|Republic of Ireland|Camping|2022-01-01 16:00:00|29.325575928787117| 56.95417356701815|1620.8617811356273|        0|       On|           On|15.453999472973807|   Friday|     No| 89.4982076601557|\n",
            "|Keel Sandybanks C...|http://www.achill...|  +353(0)9843211|  -10.077045|  53.974912|         Mayo|           NULL|Republic of Ireland|Camping|2022-01-01 17:00:00|23.742447494814922| 42.24584548342733| 1413.595106864955|        1|       On|          Off| 3.940678287777141|   Sunday|    Yes|72.87244263642421|\n",
            "|Blarney Caravan a...|http://www.blarne...|+353(0)214516519|     -8.5461|  51.947423|         Cork|        Blarney|Republic of Ireland|Camping|2022-01-01 18:00:00|27.524189220859462|47.172429679424546|1832.1997785770345|        9|       On|          Off|19.688958309220318| Thursday|     No| 83.8998965998896|\n",
            "|Lough Ramor Carav...|                NULL|     3.53873E+11|   -7.049428|  53.795701|        Cavan|       Virginia|Republic of Ireland|Camping|2022-01-01 19:00:00| 27.63139001845522| 36.14029374467184| 1251.553720835332|        4|       On|           On| 8.848082816473534|Wednesday|    Yes|82.07757940317406|\n",
            "+--------------------+--------------------+----------------+------------+-----------+-------------+---------------+-------------------+-------+-------------------+------------------+------------------+------------------+---------+---------+-------------+------------------+---------+-------+-----------------+\n",
            "only showing top 20 rows\n",
            "\n"
          ]
        }
      ]
    },
    {
      "cell_type": "code",
      "source": [
        "# Stop SparkSession\n",
        "spark.stop()"
      ],
      "metadata": {
        "id": "ZOsl2Q1kDD69"
      },
      "execution_count": 11,
      "outputs": []
    }
  ]
}